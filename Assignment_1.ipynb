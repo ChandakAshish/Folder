{
 "cells": [
  {
   "cell_type": "code",
   "execution_count": 6,
   "metadata": {},
   "outputs": [
    {
     "data": {
      "text/plain": [
       "\"\\n* -> expressions \\n'hello' -> values\\n-87.8 -> values\\n- -> expressions\\n/ -> expressions\\n+ -> expressions\\n6 -> values\\n\\n\""
      ]
     },
     "execution_count": 6,
     "metadata": {},
     "output_type": "execute_result"
    }
   ],
   "source": [
    "#1. In the below elements which of them are values or an expression? eg:- values can be integer or string and expressions will be mathematical operators.\n",
    "\"\"\"\n",
    "* -> expressions \n",
    "'hello' -> values\n",
    "-87.8 -> values\n",
    "- -> expressions\n",
    "/ -> expressions\n",
    "+ -> expressions\n",
    "6 -> values\n",
    "\n",
    "\"\"\""
   ]
  },
  {
   "cell_type": "code",
   "execution_count": 9,
   "metadata": {},
   "outputs": [
    {
     "data": {
      "text/plain": [
       "'\\nvariable: it stores information in system RAM which can be used later i.e. a = 5, b = \"Ashish\", c = True; a,b,c are variables\\n\\nstring: It is one type of information which variable stores i.e. b = \"Ashish\"; b stores information in string\\n\\n'"
      ]
     },
     "execution_count": 9,
     "metadata": {},
     "output_type": "execute_result"
    }
   ],
   "source": [
    "#2. What is the difference between string and variable?\n",
    "\"\"\"\n",
    "variable: it stores information in system RAM which can be used later i.e. a = 5, b = \"Ashish\", c = True; a,b,c are variables\n",
    "\n",
    "string: It is one type of information which variable stores i.e. b = \"Ashish\"; b stores information in string\n",
    "\n",
    "\"\"\""
   ]
  },
  {
   "cell_type": "code",
   "execution_count": 11,
   "metadata": {},
   "outputs": [
    {
     "data": {
      "text/plain": [
       "'\\n1. Numeric (i.e. integer, float etc), \\n2. Boolean (i.e. True/False etc), \\n3. Text (i.e. string)\\n'"
      ]
     },
     "execution_count": 11,
     "metadata": {},
     "output_type": "execute_result"
    }
   ],
   "source": [
    "#3. Describe three different data types.\n",
    "\"\"\"\n",
    "1. Numeric (i.e. integer, float etc), \n",
    "2. Boolean (i.e. True/False etc), \n",
    "3. Text (i.e. string)\n",
    "\"\"\""
   ]
  },
  {
   "cell_type": "code",
   "execution_count": 8,
   "metadata": {},
   "outputs": [
    {
     "data": {
      "text/plain": [
       "int"
      ]
     },
     "execution_count": 8,
     "metadata": {},
     "output_type": "execute_result"
    }
   ],
   "source": [
    "#4. What is an expression made up of? What do all expressions do?\n",
    "\n",
    "\"\"\"\n",
    "expressions are combinations of values and operators.\n",
    "\n",
    "All expressions give results which are interpreted by the system compiler.\n",
    "\n",
    "\"\"\""
   ]
  },
  {
   "cell_type": "code",
   "execution_count": 13,
   "metadata": {},
   "outputs": [
    {
     "name": "stdout",
     "output_type": "stream",
     "text": [
      "spam =10\n"
     ]
    }
   ],
   "source": [
    "#5. This assignment statements, like spam = 10. What is the difference between an expression and a statement?\n",
    "\"\"\"\n",
    "expression gives result while statement does not return anything.\n",
    "\"\"\"\n",
    "print(\"spam =10\") #statement\n",
    "spam = 10 #expression"
   ]
  },
  {
   "cell_type": "code",
   "execution_count": 19,
   "metadata": {},
   "outputs": [
    {
     "name": "stdout",
     "output_type": "stream",
     "text": [
      "22\n"
     ]
    },
    {
     "data": {
      "text/plain": [
       "'\\nfor above condition \\n    bacon = 22\\n\\nif bacon = bacon +1 then bacon will have 23\\n'"
      ]
     },
     "execution_count": 19,
     "metadata": {},
     "output_type": "execute_result"
    }
   ],
   "source": [
    "#6. After running the following code, what does the variable bacon contain?\n",
    "\n",
    "bacon = 22\n",
    "bacon + 1\n",
    "print (bacon)\n",
    "\"\"\"\n",
    "for above condition \n",
    "    bacon = 22\n",
    "\n",
    "if bacon = bacon +1 then bacon will have 23\n",
    "\"\"\"\n"
   ]
  },
  {
   "cell_type": "code",
   "execution_count": 21,
   "metadata": {},
   "outputs": [
    {
     "name": "stdout",
     "output_type": "stream",
     "text": [
      "spamspamspam\n",
      "spamspamspam\n"
     ]
    },
    {
     "data": {
      "text/plain": [
       "\"\\nboth will have 'spamspamspam'\\n\""
      ]
     },
     "execution_count": 21,
     "metadata": {},
     "output_type": "execute_result"
    }
   ],
   "source": [
    "#7. What should the values of the following two terms be?\n",
    "a = 'spam' + 'spamspam'\n",
    "b = 'spam' * 3\n",
    "\n",
    "print (a)\n",
    "print(b)\n",
    "\n",
    "\"\"\"\n",
    "both will have 'spamspamspam'\n",
    "\"\"\""
   ]
  },
  {
   "cell_type": "code",
   "execution_count": 22,
   "metadata": {},
   "outputs": [
    {
     "data": {
      "text/plain": [
       "\"\\nvariable name can't start from operator or numberic number, so 100 is invalid.\\n\""
      ]
     },
     "execution_count": 22,
     "metadata": {},
     "output_type": "execute_result"
    }
   ],
   "source": [
    "#8. Why is eggs a valid variable name while 100 is invalid?\n",
    "\n",
    "\"\"\"\n",
    "variable name can't start from operator or numberic number, so 100 is invalid.\n",
    "\"\"\""
   ]
  },
  {
   "cell_type": "code",
   "execution_count": 27,
   "metadata": {},
   "outputs": [
    {
     "data": {
      "text/plain": [
       "'\\n1. int() -> to get integer\\n2. float() -> to get float number\\n3. str() -> for string\\n'"
      ]
     },
     "execution_count": 27,
     "metadata": {},
     "output_type": "execute_result"
    }
   ],
   "source": [
    "#9. What three functions can be used to get the integer, floating-point number, or string version of a value?\n",
    "\n",
    "\"\"\"\n",
    "1. int() -> to get integer\n",
    "2. float() -> to get float number\n",
    "3. str() -> for string\n",
    "\"\"\""
   ]
  },
  {
   "cell_type": "code",
   "execution_count": 29,
   "metadata": {},
   "outputs": [
    {
     "data": {
      "text/plain": [
       "'I have eaten 99 burritos.'"
      ]
     },
     "execution_count": 29,
     "metadata": {},
     "output_type": "execute_result"
    }
   ],
   "source": [
    "#10. Why does this expression cause an error? How can you fix it?\n",
    "#'I have eaten ' + 99 + ' burritos.'\n",
    "\n",
    "\"\"\"\n",
    "'I have eaten ' + 99 + ' burritos.' -> error due to concatinating of different type of character; 99 is numeric type needs to convert in string to run\n",
    "\n",
    "\"\"\"\n",
    "'I have eaten ' + '99' + ' burritos.'"
   ]
  }
 ],
 "metadata": {
  "kernelspec": {
   "display_name": "Python 3",
   "language": "python",
   "name": "python3"
  },
  "language_info": {
   "codemirror_mode": {
    "name": "ipython",
    "version": 3
   },
   "file_extension": ".py",
   "mimetype": "text/x-python",
   "name": "python",
   "nbconvert_exporter": "python",
   "pygments_lexer": "ipython3",
   "version": "3.8.5"
  }
 },
 "nbformat": 4,
 "nbformat_minor": 4
}
